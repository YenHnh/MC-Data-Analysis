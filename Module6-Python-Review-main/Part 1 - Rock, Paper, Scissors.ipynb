{
 "cells": [
  {
   "cell_type": "markdown",
   "id": "91c3a2ea",
   "metadata": {},
   "source": [
    "# Part 1 - Rock, Paper, Scissors\n",
    "\n",
    "Create a program where the user can play a game of rock, paper, scissors against a computer. Set a play choice (rock, paper, or scissors) for the computer player and during the program, request for the user to input their play choice.\n",
    "\n",
    "The rules in Rock, Paper, Scissors are:\n",
    "\n",
    "Rock beats scissors.\n",
    "Scissors beats paper.\n",
    "Paper beats rock.\n",
    "If the user wins, then display \"You win!\" If they lose against the computer, then display \"You lose.\" If the computer and the user have the same play choice, display \"It's a draw.\"\n",
    "\n",
    "<b>BONUS</b>: Randomize the play choice for the computer (hint: Python has a library called random). Also ask the user if they would like to play again. If they do, start the game again but if not, thank the user for playing the game."
   ]
  },
  {
   "cell_type": "code",
   "execution_count": 2,
   "id": "5ab054f2",
   "metadata": {},
   "outputs": [
    {
     "name": "stdout",
     "output_type": "stream",
     "text": [
      "---------- You're playing Rock, Paper, Scissors game ----------\n",
      "Computer:  Rock\n",
      "Your turn: Scissors\n",
      "You loose!\n",
      "Do you want to play again?(y/n) y\n",
      "Computer:  Paper\n",
      "Your turn: rock\n",
      "You loose!\n",
      "Do you want to play again?(y/n) y\n",
      "Computer:  Rock\n",
      "Your turn: rock\n",
      "It's a draw\n",
      "Do you want to play again?(y/n) n\n"
     ]
    }
   ],
   "source": [
    "import random as rand \n",
    "\n",
    "print(\"---------- You're playing Rock, Paper, Scissors game ----------\")\n",
    "answer = \"\"\n",
    "while answer.lower() != \"n\":\n",
    "    choices = [\"Rock\", \"Paper\", \"Scissors\"]\n",
    "    com_choice = rand.choice(choices)\n",
    "    print(\"Computer: \", com_choice)\n",
    "    your_choice = input(\"Your turn: \")\n",
    "    \n",
    "    if your_choice.lower() == com_choice.lower():\n",
    "        print(\"It's a draw\")\n",
    "    elif (com_choice == \"Rock\" and your_choice.lower() == \"paper\") or (com_choice == \"Scissors\" and your_choice.lower() == \"rock\") or (com_choice == \"Paper\" and your_choice.lower() == \"scissors\"):\n",
    "        print(\"You win!\")\n",
    "    elif (com_choice == \"Paper\" and your_choice.lower() == \"rock\") or (com_choice == \"Rock\" and your_choice.lower() == \"scissors\") or (com_choice == \"Scissors\" and your_choice.lower() == \"paper\"):\n",
    "        print(\"You loose!\")\n",
    "    \n",
    "    answer = input(\"Do you want to play again?(y/n) \")"
   ]
  }
 ],
 "metadata": {
  "kernelspec": {
   "display_name": "Python 3",
   "language": "python",
   "name": "python3"
  },
  "language_info": {
   "codemirror_mode": {
    "name": "ipython",
    "version": 3
   },
   "file_extension": ".py",
   "mimetype": "text/x-python",
   "name": "python",
   "nbconvert_exporter": "python",
   "pygments_lexer": "ipython3",
   "version": "3.8.8"
  }
 },
 "nbformat": 4,
 "nbformat_minor": 5
}
