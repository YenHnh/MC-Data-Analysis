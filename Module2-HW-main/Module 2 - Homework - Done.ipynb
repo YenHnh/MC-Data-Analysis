{
 "cells": [
  {
   "cell_type": "markdown",
   "id": "c209b646",
   "metadata": {},
   "source": [
    "### Homework #2"
   ]
  },
  {
   "cell_type": "markdown",
   "id": "869ebfd6",
   "metadata": {},
   "source": [
    "1. Round 4.5667 to the nearest hundreth (2 decimals) using a build-in function, round()."
   ]
  },
  {
   "cell_type": "code",
   "execution_count": 2,
   "id": "123658aa",
   "metadata": {},
   "outputs": [
    {
     "data": {
      "text/plain": [
       "4.57"
      ]
     },
     "execution_count": 2,
     "metadata": {},
     "output_type": "execute_result"
    }
   ],
   "source": [
    "round(4.5667,2)"
   ]
  },
  {
   "cell_type": "markdown",
   "id": "9d3f352c",
   "metadata": {},
   "source": [
    "2. Convert \"657\" to an integer data type"
   ]
  },
  {
   "cell_type": "code",
   "execution_count": 4,
   "id": "d5a67683",
   "metadata": {},
   "outputs": [
    {
     "data": {
      "text/plain": [
       "657"
      ]
     },
     "execution_count": 4,
     "metadata": {},
     "output_type": "execute_result"
    }
   ],
   "source": [
    "int(\"657\")"
   ]
  },
  {
   "cell_type": "markdown",
   "id": "a36f06d4",
   "metadata": {},
   "source": [
    "3. Write a program to get two numbers from a user. Then, create a 6-digit code that is a series of randomly generated numbers between the two numbers given by the user. Print the 6-digit code so all digits are separated by a dash. "
   ]
  },
  {
   "cell_type": "code",
   "execution_count": 4,
   "id": "021c92d4",
   "metadata": {},
   "outputs": [
    {
     "name": "stdout",
     "output_type": "stream",
     "text": [
      "Enter a number: 2\n",
      "Enter a number: 7\n",
      "6 random digit code with dash: 6-3-2-3-6-5\n"
     ]
    }
   ],
   "source": [
    "import random\n",
    "\n",
    "num1 = int(input(\"Enter a number: \"))\n",
    "num2 = int(input(\"Enter a number: \"))\n",
    "\n",
    "digit1 = random.randint(num1,num2)\n",
    "digit2 = random.randint(num1,num2)\n",
    "digit3 = random.randint(num1,num2)\n",
    "digit4 = random.randint(num1,num2)\n",
    "digit5 = random.randint(num1,num2)\n",
    "digit6 = random.randint(num1,num2)\n",
    "\n",
    "print(f\"6 random digit code with dash: {digit1}-{digit2}-{digit3}-{digit4}-{digit5}-{digit6}\")"
   ]
  },
  {
   "cell_type": "markdown",
   "id": "ee1441a1",
   "metadata": {},
   "source": [
    "4. Write a program to remove ALL the white spaces from the following text:\n",
    "\n",
    "        Hickory, dickory, dock,     \n",
    "        The mouse ran up the clock.   \n",
    "        The clock struck one,   \n",
    "        The mouse ran down,                      \n",
    "        Hickory, dickory, dock                  "
   ]
  },
  {
   "cell_type": "code",
   "execution_count": 10,
   "id": "8bf680f1",
   "metadata": {},
   "outputs": [],
   "source": [
    "line1 = \"  Hickory, dickory, dock,   \"\n",
    "line2 = \"  The mouse ran up the clock. \"\n",
    "line3 = \"  The clock struck one,   \"\n",
    "line4 = \"  The mouse ran down,   \"\n",
    "line5 = \"  Hickory, dickory, dock  \""
   ]
  },
  {
   "cell_type": "code",
   "execution_count": 14,
   "id": "59d9c718",
   "metadata": {},
   "outputs": [],
   "source": [
    "line1 = line1.replace(\" \",\"\")\n",
    "line2 = line2.replace(\" \",\"\")\n",
    "line3 = line3.replace(\" \",\"\")\n",
    "line4 = line4.replace(\" \",\"\")\n",
    "line5 = line5.replace(\" \",\"\")"
   ]
  },
  {
   "cell_type": "code",
   "execution_count": 12,
   "id": "11c24618",
   "metadata": {},
   "outputs": [
    {
     "name": "stdout",
     "output_type": "stream",
     "text": [
      "Hickory,dickory,dock,\n",
      "Themouseranuptheclock.\n",
      "Theclockstruckone,\n",
      "Themouserandown,\n",
      "Hickory,dickory,dock\n"
     ]
    }
   ],
   "source": [
    "print(f\"{line1}\\n{line2}\\n{line3}\\n{line4}\\n{line5}\")"
   ]
  },
  {
   "cell_type": "markdown",
   "id": "72d87b5b",
   "metadata": {},
   "source": [
    "5. Write a function to calculate the miles per gallon. Get a miles driven and gallons used from a user and call your function to calculate the miles per gallon."
   ]
  },
  {
   "cell_type": "code",
   "execution_count": 37,
   "id": "27be7372",
   "metadata": {},
   "outputs": [
    {
     "name": "stdout",
     "output_type": "stream",
     "text": [
      "Enter miles driven: 34\n",
      "Enter gallons used: 45\n",
      "The miles per gallon is 0.76\n"
     ]
    }
   ],
   "source": [
    "def miles_per_gallon(m,g):\n",
    "    print(f\"The miles per gallon is {m/g:.2f}\")\n",
    "\n",
    "miles = float(input(\"Enter miles driven: \"))\n",
    "gallons = float(input(\"Enter gallons used: \"))\n",
    "\n",
    "miles_per_gallon(miles,gallons)"
   ]
  },
  {
   "cell_type": "markdown",
   "id": "1f3942b8",
   "metadata": {},
   "source": [
    "6. Enhance the <b>compute()</b> function created during Module 2. Enhance the function to compute a circle's area and circumference where:\n",
    "\n",
    " - circle's area = 3.14 X (radius X radius)   \n",
    " - circle's circumference = 3.14 X diameter"
   ]
  },
  {
   "cell_type": "code",
   "execution_count": 27,
   "id": "fa8de89a",
   "metadata": {},
   "outputs": [
    {
     "name": "stdout",
     "output_type": "stream",
     "text": [
      "Enter radius: 5\n",
      "Circle's area: 15.70\n",
      "Circle's circumference: 31.40\n"
     ]
    }
   ],
   "source": [
    "def compute(r):\n",
    "    print(f\"Circle's area: {(3.14*r):.2f}\")\n",
    "    print(f\"Circle's circumference: {(3.14*2*r):.2f}\")\n",
    "    \n",
    "radius = float(input(\"Enter radius: \"))\n",
    "\n",
    "compute(radius)"
   ]
  },
  {
   "cell_type": "markdown",
   "id": "4c5d83bb",
   "metadata": {},
   "source": [
    "7. Write a function called multiply_two() that accepts two parameters. The function should print a message like '15 * 2 = 30'.  Randomly generate two numbers between 1 and 100, then call the function with the two random numbers."
   ]
  },
  {
   "cell_type": "code",
   "execution_count": 30,
   "id": "fe5ca2dc",
   "metadata": {},
   "outputs": [
    {
     "name": "stdout",
     "output_type": "stream",
     "text": [
      "97 X 39 = 3783\n"
     ]
    }
   ],
   "source": [
    "import random\n",
    "\n",
    "def multiply_two(x,y):\n",
    "    print(f\"{x} X {y} = {x*y}\")\n",
    "\n",
    "num1 = random.randint(1,100)\n",
    "num2 = random.randint(1,100)\n",
    "\n",
    "multiply_two(num1,num2)"
   ]
  },
  {
   "cell_type": "markdown",
   "id": "36865477",
   "metadata": {},
   "source": [
    "8. Create a function for a multiplication table.  Get a number from a user and then call you function which produces a multiplication table for that number.\n",
    "The output should look something like this:\n",
    "\n",
    "        Enter a number: 3\n",
    "        3 X 1 = 3\n",
    "        3 X 2 = 6\n",
    "        3 X 3 = 9\n",
    "        3 X 4 = 12\n",
    "        3 X 5 = 15\n",
    "        3 X 6 = 18\n",
    "        3 X 7 = 21\n",
    "        3 X 8 = 24\n",
    "        3 X 9 = 27"
   ]
  },
  {
   "cell_type": "code",
   "execution_count": 36,
   "id": "b023e863",
   "metadata": {},
   "outputs": [
    {
     "name": "stdout",
     "output_type": "stream",
     "text": [
      "Enter a number: 3\n",
      "3 X 1 = 3\n",
      "3 X 2 = 6\n",
      "3 X 3 = 9\n",
      "3 X 4 = 12\n",
      "3 X 5 = 15\n",
      "3 X 6 = 18\n",
      "3 X 7 = 21\n",
      "3 X 8 = 24\n",
      "3 X 9 = 27\n"
     ]
    }
   ],
   "source": [
    "def table(x):\n",
    "    for i in range(1,10):\n",
    "        print(f\"{x} X {i} = {x*i}\")\n",
    "\n",
    "num = int(input(\"Enter a number: \"))\n",
    "\n",
    "table(num)"
   ]
  }
 ],
 "metadata": {
  "kernelspec": {
   "display_name": "Python 3 (ipykernel)",
   "language": "python",
   "name": "python3"
  },
  "language_info": {
   "codemirror_mode": {
    "name": "ipython",
    "version": 3
   },
   "file_extension": ".py",
   "mimetype": "text/x-python",
   "name": "python",
   "nbconvert_exporter": "python",
   "pygments_lexer": "ipython3",
   "version": "3.9.7"
  }
 },
 "nbformat": 4,
 "nbformat_minor": 5
}
